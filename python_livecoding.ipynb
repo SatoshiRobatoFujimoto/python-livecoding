{
 "cells": [
  {
   "cell_type": "markdown",
   "metadata": {},
   "source": [
    "# Python Live Coding"
   ]
  },
  {
   "cell_type": "code",
   "execution_count": 16,
   "metadata": {},
   "outputs": [],
   "source": [
    "from FoxDot import *"
   ]
  },
  {
   "cell_type": "markdown",
   "metadata": {},
   "source": [
    "## 3.1 音を鳴らしてみよう"
   ]
  },
  {
   "cell_type": "markdown",
   "metadata": {},
   "source": [
    "### 3.1.1 Super Colliderに入力"
   ]
  },
  {
   "cell_type": "code",
   "execution_count": null,
   "metadata": {},
   "outputs": [],
   "source": [
    "FoxDot.start"
   ]
  },
  {
   "cell_type": "markdown",
   "metadata": {},
   "source": [
    "### 3.1.2 コマンドプロンプトに入力"
   ]
  },
  {
   "cell_type": "code",
   "execution_count": null,
   "metadata": {},
   "outputs": [],
   "source": [
    "python -m FoxDot"
   ]
  },
  {
   "cell_type": "markdown",
   "metadata": {},
   "source": [
    "### 3.1.3 Pluck"
   ]
  },
  {
   "cell_type": "code",
   "execution_count": 2,
   "metadata": {},
   "outputs": [
    {
     "data": {
      "text/plain": [
       "<p1 - pluck>"
      ]
     },
     "execution_count": 2,
     "metadata": {},
     "output_type": "execute_result"
    }
   ],
   "source": [
    "p1 >> pluck()"
   ]
  },
  {
   "cell_type": "markdown",
   "metadata": {},
   "source": [
    "## 3.2 プレイヤーと音色"
   ]
  },
  {
   "cell_type": "markdown",
   "metadata": {},
   "source": [
    "### 3.2.1　Pluckとドラム"
   ]
  },
  {
   "cell_type": "code",
   "execution_count": 3,
   "metadata": {},
   "outputs": [
    {
     "data": {
      "text/plain": [
       "<sn - play2>"
      ]
     },
     "execution_count": 3,
     "metadata": {},
     "output_type": "execute_result"
    }
   ],
   "source": [
    "p1 >> pluck(P[0, 3, 4, 0] + (0, 2, 4))\n",
    "bd >> play('x x x x ')\n",
    "hh >> play(' - - - -')\n",
    "sn >> play('  o   o ')"
   ]
  },
  {
   "cell_type": "markdown",
   "metadata": {},
   "source": [
    "### 3.2.2　属性の変更"
   ]
  },
  {
   "cell_type": "code",
   "execution_count": 4,
   "metadata": {},
   "outputs": [],
   "source": [
    "# chopの変更\n",
    "p1.chop = 4"
   ]
  },
  {
   "cell_type": "markdown",
   "metadata": {},
   "source": [
    "### 3.2.3　Clockやスケールの確認"
   ]
  },
  {
   "cell_type": "code",
   "execution_count": 5,
   "metadata": {},
   "outputs": [
    {
     "name": "stdout",
     "output_type": "stream",
     "text": [
      "120.0\n",
      "P[0, 2, 4, 5, 7, 9, 11]\n",
      "0\n"
     ]
    }
   ],
   "source": [
    "print(Clock.bpm)\n",
    "print(Scale.default)\n",
    "print(Root.default)"
   ]
  },
  {
   "cell_type": "markdown",
   "metadata": {},
   "source": [
    "### 3.2.4　マイナースケールに変更"
   ]
  },
  {
   "cell_type": "code",
   "execution_count": 6,
   "metadata": {},
   "outputs": [],
   "source": [
    "# change to minor scale\n",
    "Scale.default = Scale.minor"
   ]
  },
  {
   "cell_type": "markdown",
   "metadata": {},
   "source": [
    "### 3.2.5　スケールの変更と、音階"
   ]
  },
  {
   "cell_type": "code",
   "execution_count": 7,
   "metadata": {},
   "outputs": [
    {
     "data": {
      "text/plain": [
       "<p1 - pluck>"
      ]
     },
     "execution_count": 7,
     "metadata": {},
     "output_type": "execute_result"
    }
   ],
   "source": [
    "# change to major scale\n",
    "Scale.default = Scale.major\n",
    "\n",
    "# major scale pluck\n",
    "p1 >> pluck([0,1,2,3,4,5,6,7])"
   ]
  },
  {
   "cell_type": "markdown",
   "metadata": {},
   "source": [
    "### 3.2.6　和音"
   ]
  },
  {
   "cell_type": "code",
   "execution_count": 8,
   "metadata": {},
   "outputs": [
    {
     "name": "stdout",
     "output_type": "stream",
     "text": [
      "P[P(0, 2, 4), P(3, 5, 7), P(4, 6, 8), P(0, 2, 4)]\n"
     ]
    }
   ],
   "source": [
    "print(P[0,3, 4, 0] + (0, 2, 4))"
   ]
  },
  {
   "cell_type": "markdown",
   "metadata": {},
   "source": [
    "### 3.2.7　プレイヤーの一覧"
   ]
  },
  {
   "cell_type": "code",
   "execution_count": 9,
   "metadata": {},
   "outputs": [
    {
     "name": "stdout",
     "output_type": "stream",
     "text": [
      "['loop', 'play1', 'play2', 'audioin', 'noise', 'dab', 'varsaw', 'lazer', 'growl', 'bass', 'dirt', 'crunch', 'rave', 'scatter', 'charm', 'bell', 'gong', 'soprano', 'dub', 'viola', 'scratch', 'klank', 'feel', 'glass', 'soft', 'quin', 'pluck', 'spark', 'blip', 'ripple', 'creep', 'orient', 'zap', 'marimba', 'fuzz', 'bug', 'pulse', 'saw', 'snick', 'twang', 'karp', 'arpy', 'nylon', 'donk', 'squish', 'swell', 'razz', 'sitar', 'star', 'jbass', 'sawbass', 'prophet', 'pads', 'pasha', 'ambi', 'space', 'keys', 'dbass', 'sinepad']\n"
     ]
    }
   ],
   "source": [
    "# list player\n",
    "print(SynthDefs)"
   ]
  },
  {
   "cell_type": "markdown",
   "metadata": {},
   "source": [
    "### 3.2.8　様々なプレイヤー属性"
   ]
  },
  {
   "cell_type": "code",
   "execution_count": 10,
   "metadata": {},
   "outputs": [
    {
     "data": {
      "text/plain": [
       "<hc - play2>"
      ]
     },
     "execution_count": 10,
     "metadata": {},
     "output_type": "execute_result"
    }
   ],
   "source": [
    "# pluck\n",
    "p1 >> pluck(P[0,3, 4, 0] + (0, 2, 4))\n",
    "\n",
    "# bass, volume=0.7\n",
    "bs >> bass(P[0,3,4,0], amp=0.7)\n",
    "\n",
    "# pads duration=4, volume=0.4, high pass filter=900hz\n",
    "pd >> pads(P[(6, 8), (4, 9)], dur=4, amp=0.4, hpf=900)\n",
    "\n",
    "# bass drum\n",
    "bd >> play('x x x x ', sample=4)\n",
    "\n",
    "# hi hat\n",
    "hh >> play(' - - - -')\n",
    "\n",
    "# snare\n",
    "sn >> play('  o   o ')\n",
    "\n",
    "# hand crap\n",
    "hc >> play('  H [ H] H ')"
   ]
  },
  {
   "cell_type": "markdown",
   "metadata": {},
   "source": [
    "### コラム1　3文字以上のプレイヤー名"
   ]
  },
  {
   "cell_type": "code",
   "execution_count": 11,
   "metadata": {},
   "outputs": [
    {
     "data": {
      "text/plain": [
       "<pluckPlayer - pluck>"
      ]
     },
     "execution_count": 11,
     "metadata": {},
     "output_type": "execute_result"
    }
   ],
   "source": [
    "# over 2length player object's name\n",
    "pluckPlayer = Player(\"pluckPlayer\")\n",
    "pluckPlayer >> pluck()"
   ]
  },
  {
   "cell_type": "markdown",
   "metadata": {},
   "source": [
    "## 3.3 プレイヤーの属性"
   ]
  },
  {
   "cell_type": "markdown",
   "metadata": {},
   "source": [
    "### 3.3.1　プレイヤー属性の一覧"
   ]
  },
  {
   "cell_type": "code",
   "execution_count": 12,
   "metadata": {},
   "outputs": [
    {
     "name": "stdout",
     "output_type": "stream",
     "text": [
      "('degree', 'oct', 'freq', 'dur', 'delay', 'buf', 'blur', 'amplify', 'scale', 'bpm', 'sample', 'env', 'sus', 'fmod', 'pan', 'rate', 'amp', 'midinote', 'channel', 'vib', 'vibdepth', 'slide', 'sus', 'slidedelay', 'slidefrom', 'glide', 'glide_delay', 'bend', 'benddelay', 'coarse', 'striate', 'buf', 'rate', 'pshift', 'hpf', 'hpr', 'lpf', 'lpr', 'swell', 'bpf', 'bpr', 'bpnoise', 'chop', 'tremolo', 'beat_dur', 'echo', 'echotime', 'spin', 'cut', 'room', 'mix', 'formant', 'shape', 'drive')\n"
     ]
    }
   ],
   "source": [
    "print(Player.get_attributes())"
   ]
  },
  {
   "cell_type": "markdown",
   "metadata": {},
   "source": [
    "### 3.3.2　様々な属性"
   ]
  },
  {
   "cell_type": "code",
   "execution_count": 13,
   "metadata": {},
   "outputs": [
    {
     "name": "stdout",
     "output_type": "stream",
     "text": [
      "('degree', 'oct', 'freq', 'dur', 'delay', 'buf', 'blur', 'amplify', 'scale', 'bpm', 'sample', 'env', 'sus', 'fmod', 'pan', 'rate', 'amp', 'midinote', 'channel', 'vib', 'vibdepth', 'slide', 'sus', 'slidedelay', 'slidefrom', 'glide', 'glide_delay', 'bend', 'benddelay', 'coarse', 'striate', 'buf', 'rate', 'pshift', 'hpf', 'hpr', 'lpf', 'lpr', 'swell', 'bpf', 'bpr', 'bpnoise', 'chop', 'tremolo', 'beat_dur', 'echo', 'echotime', 'spin', 'cut', 'room', 'mix', 'formant', 'shape', 'drive')\n"
     ]
    },
    {
     "data": {
      "text/plain": [
       "<dr - play2>"
      ]
     },
     "execution_count": 13,
     "metadata": {},
     "output_type": "execute_result"
    }
   ],
   "source": [
    "# list\n",
    "print(Player.get_attributes())\n",
    "\n",
    "# Melody\n",
    "m1 = P[0,1,2,3,4,5,6,7]\n",
    "m2 = P[0, 4]\n",
    "\n",
    "# normal\n",
    "p1 >> pluck(m1)\n",
    "\n",
    "# オクターブの変更と、ディレイ（遅延）、音量を小さく\n",
    "p2 >> pluck(m1, oct=6, delay=0.25, amp=0.3)\n",
    "\n",
    "# duration（音のながさ、小数点でも、分数でも、整数でもOK）\n",
    "bs >> bass(m1, dur=1/2, amp=0.5)\n",
    "\n",
    "# サスティーン（音の伸び）、\n",
    "pd >> pads(m2, sus=6, amp=0.2, oct=7, dur=4)\n",
    "\n",
    "# ローパスフィルター（ハイカットフィルター）、設定値より高い周波数をカットする\n",
    "# サンプル、サンプル音源を変更する\n",
    "dr >> play(P['V-(V-zo)V-o[(V-o)(xV)(V-)]'].layer('reverse'), sample=4, amp=0.6, lpf=linvar([12000, 1000], 8))"
   ]
  },
  {
   "cell_type": "markdown",
   "metadata": {},
   "source": [
    "## パターン変数"
   ]
  },
  {
   "cell_type": "markdown",
   "metadata": {},
   "source": [
    "### 3.4.1　パターン変数の演算"
   ]
  },
  {
   "cell_type": "code",
   "execution_count": 14,
   "metadata": {},
   "outputs": [
    {
     "name": "stdout",
     "output_type": "stream",
     "text": [
      "<class 'list'>\n",
      "<class 'FoxDot.lib.Patterns.Main.Pattern'>\n",
      "my_pattern + 2 =  P[2, 3, 4, 5]\n",
      "my_list * 2 =  [0, 1, 2, 3, 0, 1, 2, 3]\n",
      "my_pattern * 2 =  P[0, 2, 4, 6]\n",
      "my_list + my_list =  [0, 1, 2, 3, 0, 1, 2, 3]\n",
      "my_pattern | my_pattern =  P[0, 1, 2, 3, 0, 1, 2, 3]\n",
      "P[1,2,3] + P[10,20] =  P[11, 22, 13, 21, 12, 23]\n"
     ]
    }
   ],
   "source": [
    "# pythonlist and foxdot pattern object\n",
    "my_list    = [0, 1, 2, 3]\n",
    "my_pattern = P[0, 1, 2, 3]\n",
    "\n",
    "# type\n",
    "print(type(my_list))\n",
    "print(type(my_pattern))\n",
    "\n",
    "# Add\n",
    "# print('my_list + 2 = ', my_list + [2]) # this code occurs error\n",
    "print('my_pattern + 2 = ', my_pattern + 2)\n",
    "\n",
    "# multiple\n",
    "print('my_list * 2 = ', my_list * 2)\n",
    "print('my_pattern * 2 = ', my_pattern * 2)\n",
    "\n",
    "# concat\n",
    "print('my_list + my_list = ', my_list + my_list)\n",
    "print('my_pattern | my_pattern = ', my_pattern | my_pattern)\n",
    "\n",
    "# transformation\n",
    "print('P[1,2,3] + P[10,20] = ', P[1,2,3] + P[10,20])"
   ]
  },
  {
   "cell_type": "markdown",
   "metadata": {},
   "source": [
    "### 3.4.2　パターンオブジェクトの関数"
   ]
  },
  {
   "cell_type": "code",
   "execution_count": 15,
   "metadata": {},
   "outputs": [
    {
     "name": "stdout",
     "output_type": "stream",
     "text": [
      "P[1, 3, 0, 2]\n"
     ]
    }
   ],
   "source": [
    "# shuffle method\n",
    "pattern1 = P[0,1,2,3]\n",
    "print(pattern1.shuffle())"
   ]
  },
  {
   "cell_type": "markdown",
   "metadata": {},
   "source": [
    "### 3.4.3　パターンオブジェクト関数の一覧"
   ]
  },
  {
   "cell_type": "code",
   "execution_count": 16,
   "metadata": {},
   "outputs": [
    {
     "name": "stdout",
     "output_type": "stream",
     "text": [
      "['PlayerKey', 'Pvar', 'PvarGenerator', 'TimeVar', '__abs__', '__add__', '__and__', '__bool__', '__class__', '__delattr__', '__dir__', '__eq__', '__floordiv__', '__format__', '__ge__', '__getattribute__', '__getitem__', '__gt__', '__init__', '__init_subclass__', '__invert__', '__iter__', '__le__', '__len__', '__lt__', '__mod__', '__mul__', '__ne__', '__new__', '__nonzero__', '__or__', '__pow__', '__radd__', '__rand__', '__reduce__', '__reduce_ex__', '__repr__', '__rfloordiv__', '__rmod__', '__rmul__', '__ror__', '__rpow__', '__rsub__', '__rtruediv__', '__rxor__', '__setattr__', '__setitem__', '__setslice__', '__sizeof__', '__str__', '__sub__', '__subclasshook__', '__truediv__', '__xor__', 'abs', 'accum', 'add', 'all', 'alt', 'amen', 'append', 'arp', 'asGroup', 'bubble', 'choose', 'compress', 'concat', 'convert_data', 'copy', 'count', 'deep_shuffle', 'deeprzip', 'deepzip', 'duplicate', 'eq', 'every', 'extend', 'fromString', 'get_behaviour', 'get_methods', 'getitem', 'getslice', 'group', 'help', 'i_reverse', 'i_rotate', 'i_shuf', 'i_sort', 'invert', 'items', 'iter', 'layer', 'limit', 'loop', 'ltrim', 'make', 'map', 'mirror', 'ne', 'new', 'norm', 'offadd', 'offlayer', 'offmul', 'palindrome', 'pivot', 'replace', 'reverse', 'rotate', 'sample', 'select', 'set', 'setitem', 'shuffle', 'shufflets', 'sort', 'splice', 'startswith', 'stretch', 'string', 'stutter', 'submap', 'swap', 'transform', 'trim', 'true_copy', 'true_shuffle', 'undup', 'zip', 'zipx']\n"
     ]
    }
   ],
   "source": [
    "# check pattern methods\n",
    "print(PatternMethods)"
   ]
  },
  {
   "cell_type": "markdown",
   "metadata": {},
   "source": [
    "### 3.4.4　パターンオブジェクト関数 - Stutter"
   ]
  },
  {
   "cell_type": "code",
   "execution_count": 17,
   "metadata": {},
   "outputs": [
    {
     "name": "stdout",
     "output_type": "stream",
     "text": [
      "P[0, 1, 1, 2, 2, 3, 3, 3]\n"
     ]
    }
   ],
   "source": [
    "# stutter\n",
    "print(P[0, 1, 2, 3].stutter([[1,2], [2,3]]))"
   ]
  },
  {
   "cell_type": "markdown",
   "metadata": {},
   "source": [
    "### 3.4.5　パターンオブジェクト関数 - アルペジオ"
   ]
  },
  {
   "cell_type": "code",
   "execution_count": 18,
   "metadata": {},
   "outputs": [
    {
     "name": "stdout",
     "output_type": "stream",
     "text": [
      "P[0, 2, 4, 1, 3, 5, 2, 4, 6, 3, 5, 7]\n"
     ]
    }
   ],
   "source": [
    "# arp\n",
    "print(P[0, 1, 2, 3].arp([0, 2, 4]))"
   ]
  },
  {
   "cell_type": "markdown",
   "metadata": {},
   "source": [
    "### 3.4.6　パターンオブジェクト関数 - アルペジオ2（凛として時雨 - DISCO FLIGHT）"
   ]
  },
  {
   "cell_type": "code",
   "execution_count": 22,
   "metadata": {},
   "outputs": [
    {
     "name": "stdout",
     "output_type": "stream",
     "text": [
      "P[5, 3, 4, 2, 3, 1, 2, 0]\n"
     ]
    },
    {
     "data": {
      "text/plain": [
       "<bd - play2>"
      ]
     },
     "execution_count": 22,
     "metadata": {},
     "output_type": "execute_result"
    }
   ],
   "source": [
    "# Disco Flight - Ling tosite sigure\n",
    "Scale.default = Scale.major\n",
    "Root.default = 'Eb'\n",
    "Clock.bpm = 135\n",
    "\n",
    "# guitar phrase\n",
    "tkguitar = P[5,4,3,2].arp([0, -2])\n",
    "print(tkguitar)\n",
    "\n",
    "# guitar\n",
    "s1 >> pluck(tkguitar, oct=5, dur=1/2, echo=0.75, sus=1, room=1, amp=0.7)\n",
    "s2 >> pluck(tkguitar, oct=6, dur=1/2, echo=0.75, decay=1, sus=1, room=1, amp=0.6)\n",
    "s3 >> pluck(tkguitar, oct=4, dur=1/2, echo=0.75, decay=1, sus=1, room=1, amp=0.6)\n",
    "\n",
    "# bass\n",
    "bs >> dbass(P[1].stutter(6) | P[5].stutter(6), oct=4, dur=P[1,1,3/4,1/2,1/2,1/4], amp=0.9, sus=0.8, delay=-0.1)\n",
    "\n",
    "# drum\n",
    "c1 >> play(\"@\", dur=1/4, sample=P[:8].rotate([0,1,3]), rate=4, pan=-0.5)\n",
    "c2 >> play(\"#\", dur=40, room=1, amp=2, pan=0.5)\n",
    "d1 >> play(\"<  * ><[--]>\")\n",
    "bd >> play(\"V\", dur=1, amp=0.5)"
   ]
  },
  {
   "cell_type": "markdown",
   "metadata": {},
   "source": [
    "### 3.4.7 パターンオブジェクト関数 - レイヤー"
   ]
  },
  {
   "cell_type": "code",
   "execution_count": 24,
   "metadata": {},
   "outputs": [
    {
     "name": "stdout",
     "output_type": "stream",
     "text": [
      "P[P(0, 3), P(1, 2), P(2, 1), P(3, 0)]\n"
     ]
    }
   ],
   "source": [
    "# layer\n",
    "print(P[0, 1, 2, 3].layer(\"reverse\"))"
   ]
  },
  {
   "cell_type": "markdown",
   "metadata": {},
   "source": [
    "## 3.5 時間とともに変化"
   ]
  },
  {
   "cell_type": "markdown",
   "metadata": {},
   "source": [
    "### 3.5.1 var"
   ]
  },
  {
   "cell_type": "code",
   "execution_count": null,
   "metadata": {},
   "outputs": [],
   "source": [
    "a = var([0,3],4)             # varオブジェクトの生成\n",
    "p1 >> pluck([0, 1, 2, 3])             # リズム用 \n",
    "print('0拍目', int(Clock.now()), a)   # 0拍目\n",
    "print('4拍目', int(Clock.now()), a)   # 4拍目\n",
    "print('8拍目', int(Clock.now()), a)   # 8拍目"
   ]
  },
  {
   "cell_type": "markdown",
   "metadata": {},
   "source": [
    "### 3.5.2 lin_var"
   ]
  },
  {
   "cell_type": "code",
   "execution_count": 2,
   "metadata": {},
   "outputs": [
    {
     "data": {
      "text/plain": [
       "<p1 - pluck>"
      ]
     },
     "execution_count": 2,
     "metadata": {},
     "output_type": "execute_result"
    }
   ],
   "source": [
    "# linear var\n",
    "p1 >> pluck(dur=1/4, pan=linvar([-1,1],8))"
   ]
  },
  {
   "cell_type": "markdown",
   "metadata": {},
   "source": [
    "### 3.5.3 Scale var"
   ]
  },
  {
   "cell_type": "code",
   "execution_count": 4,
   "metadata": {},
   "outputs": [],
   "source": [
    "# scale var\n",
    "sw >> swell((0,2,4,6,8), dur=4)\n",
    "bd >> play('x-o ([x xx][xxxx])-o[- (xo)-]', sample=3, dur=1)\n",
    "Scale.default = Pvar([Scale.major, Scale.minor, Scale.dorian2, Scale.minor], 8)"
   ]
  },
  {
   "cell_type": "markdown",
   "metadata": {},
   "source": [
    "### 3.6.1　かえるのライブコーディング　Level1"
   ]
  },
  {
   "cell_type": "code",
   "execution_count": 5,
   "metadata": {},
   "outputs": [
    {
     "data": {
      "text/plain": [
       "<flog4 - pluck>"
      ]
     },
     "execution_count": 5,
     "metadata": {},
     "output_type": "execute_result"
    }
   ],
   "source": [
    "# LEVEL1\n",
    "Clock.bpm = 120\n",
    "Scale.default = Scale.major\n",
    "Root.default = [0]\n",
    "\n",
    "# palyers\n",
    "flog1 = Player('flog1')\n",
    "flog2 = Player('flog2')\n",
    "flog3 = Player('flog3')\n",
    "flog4 = Player('flog4')\n",
    "\n",
    "# floggies\n",
    "flog1 >> pluck([0, 1, 2, 3, 2, 1, 0], dur=[1, 1, 1, 1, 1, 1, 2])\n",
    "flog2 >> pluck([2, 3, 4, 5, 4, 3, 2], dur=[1, 1, 1, 1, 1, 1, 2])\n",
    "flog3 >> pluck([0, 0, 0, 0], dur=[2, 2, 2, 2])\n",
    "flog4 >> pluck([0, 0, 1, 1, 2, 2, 3, 3, 2, 1, 0], dur=[1/2, 1/2, 1/2, 1/2, 1/2, 1/2, 1/2, 1/2, 1, 1, 2])"
   ]
  },
  {
   "cell_type": "markdown",
   "metadata": {},
   "source": [
    "### 4.1.1 Numpy Music"
   ]
  },
  {
   "cell_type": "code",
   "execution_count": 19,
   "metadata": {},
   "outputs": [
    {
     "name": "stdout",
     "output_type": "stream",
     "text": [
      "[-2.28000549 -2.09095533 -1.66346976 -1.53292772 -1.41761846 -1.3477024\n",
      " -1.23933092 -1.22140522 -1.21112072 -1.06704826 -1.06127979 -1.04587496\n",
      " -1.02589015 -1.00418493 -0.97856425 -0.86979127 -0.84540439 -0.81961114\n",
      " -0.81380506 -0.80957961 -0.73685816 -0.72791675 -0.62352857 -0.59552693\n",
      " -0.58794592 -0.56398975 -0.55083179 -0.54606781 -0.5037943  -0.44802316\n",
      " -0.3983012  -0.39208024 -0.38205557 -0.37798316 -0.37759352 -0.34704252\n",
      " -0.33139752 -0.32210644 -0.32200276 -0.30036838 -0.26166707 -0.24926988\n",
      " -0.22061759 -0.20196583 -0.20019385 -0.16475643 -0.134545   -0.10962077\n",
      " -0.09308375 -0.07264069 -0.06831376 -0.02337655  0.0267349   0.0829772\n",
      "  0.08397969  0.16840558  0.2853065   0.28936984  0.32915515  0.33269618\n",
      "  0.34822403  0.3894056   0.4046007   0.4355557   0.44668603  0.45089188\n",
      "  0.4792971   0.53943466  0.54000142  0.5740852   0.57805621  0.60061767\n",
      "  0.6172647   0.64359405  0.72901739  0.76701335  0.81337118  0.82654641\n",
      "  0.83392652  0.85140477  1.03195407  1.07700276  1.0905192   1.13095506\n",
      "  1.14286646  1.20917381  1.29644637  1.33018135  1.38589791  1.52290199\n",
      "  1.54011787  1.54444242  1.54712875  1.58410027  1.61590653  1.66835911\n",
      "  1.70519654  1.8593336   1.88606888  1.95320942]\n"
     ]
    }
   ],
   "source": [
    "import numpy as np\n",
    "print(np.sort(np.random.randn(100)))"
   ]
  },
  {
   "cell_type": "markdown",
   "metadata": {},
   "source": [
    "### 4.1.2 normalized pan"
   ]
  },
  {
   "cell_type": "code",
   "execution_count": 41,
   "metadata": {},
   "outputs": [
    {
     "data": {
      "text/plain": [
       "<p1 - blip>"
      ]
     },
     "execution_count": 41,
     "metadata": {},
     "output_type": "execute_result"
    }
   ],
   "source": [
    "ary = np.sort(np.random.randn(100))\n",
    "p1 >> blip(dur=1/2, sus=1/2, pan=var(ary.tolist(), 1/8))"
   ]
  },
  {
   "cell_type": "markdown",
   "metadata": {},
   "source": [
    "### 4.2.1 1_snare_drum.wav"
   ]
  },
  {
   "cell_type": "code",
   "execution_count": 45,
   "metadata": {},
   "outputs": [
    {
     "data": {
      "text/plain": [
       "<dr - play2>"
      ]
     },
     "execution_count": 45,
     "metadata": {},
     "output_type": "execute_result"
    }
   ],
   "source": [
    "# 1_snare_drum.wav\n",
    "dr >> play('I ', sample=2)"
   ]
  },
  {
   "cell_type": "markdown",
   "metadata": {},
   "source": [
    "## コラム2"
   ]
  },
  {
   "cell_type": "code",
   "execution_count": null,
   "metadata": {},
   "outputs": [],
   "source": [
    "from FoxDot import *"
   ]
  },
  {
   "cell_type": "code",
   "execution_count": null,
   "metadata": {},
   "outputs": [],
   "source": []
  },
  {
   "cell_type": "code",
   "execution_count": null,
   "metadata": {},
   "outputs": [],
   "source": []
  },
  {
   "cell_type": "code",
   "execution_count": null,
   "metadata": {},
   "outputs": [],
   "source": []
  },
  {
   "cell_type": "code",
   "execution_count": null,
   "metadata": {},
   "outputs": [],
   "source": []
  },
  {
   "cell_type": "code",
   "execution_count": null,
   "metadata": {},
   "outputs": [],
   "source": []
  },
  {
   "cell_type": "code",
   "execution_count": null,
   "metadata": {},
   "outputs": [],
   "source": []
  },
  {
   "cell_type": "code",
   "execution_count": null,
   "metadata": {},
   "outputs": [],
   "source": []
  },
  {
   "cell_type": "code",
   "execution_count": null,
   "metadata": {},
   "outputs": [],
   "source": []
  },
  {
   "cell_type": "code",
   "execution_count": null,
   "metadata": {},
   "outputs": [],
   "source": []
  },
  {
   "cell_type": "code",
   "execution_count": null,
   "metadata": {},
   "outputs": [],
   "source": []
  },
  {
   "cell_type": "code",
   "execution_count": null,
   "metadata": {},
   "outputs": [],
   "source": []
  },
  {
   "cell_type": "code",
   "execution_count": null,
   "metadata": {},
   "outputs": [],
   "source": []
  },
  {
   "cell_type": "code",
   "execution_count": null,
   "metadata": {},
   "outputs": [],
   "source": []
  },
  {
   "cell_type": "code",
   "execution_count": null,
   "metadata": {},
   "outputs": [],
   "source": []
  },
  {
   "cell_type": "code",
   "execution_count": null,
   "metadata": {},
   "outputs": [],
   "source": []
  },
  {
   "cell_type": "code",
   "execution_count": null,
   "metadata": {},
   "outputs": [],
   "source": []
  },
  {
   "cell_type": "code",
   "execution_count": null,
   "metadata": {},
   "outputs": [],
   "source": []
  },
  {
   "cell_type": "code",
   "execution_count": null,
   "metadata": {},
   "outputs": [],
   "source": []
  },
  {
   "cell_type": "code",
   "execution_count": null,
   "metadata": {},
   "outputs": [],
   "source": []
  },
  {
   "cell_type": "code",
   "execution_count": null,
   "metadata": {},
   "outputs": [],
   "source": []
  },
  {
   "cell_type": "code",
   "execution_count": null,
   "metadata": {},
   "outputs": [],
   "source": []
  }
 ],
 "metadata": {
  "kernelspec": {
   "display_name": "Python 3",
   "language": "python",
   "name": "python3"
  },
  "language_info": {
   "codemirror_mode": {
    "name": "ipython",
    "version": 3
   },
   "file_extension": ".py",
   "mimetype": "text/x-python",
   "name": "python",
   "nbconvert_exporter": "python",
   "pygments_lexer": "ipython3",
   "version": "3.7.1"
  }
 },
 "nbformat": 4,
 "nbformat_minor": 2
}
